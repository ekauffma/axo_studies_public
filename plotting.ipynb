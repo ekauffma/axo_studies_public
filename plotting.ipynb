{
 "cells": [
  {
   "cell_type": "code",
   "execution_count": null,
   "id": "f00cb26b-0938-498b-94d2-f769020a0e93",
   "metadata": {
    "tags": []
   },
   "outputs": [],
   "source": [
    "import hist\n",
    "import time\n",
    "import json\n",
    "import dill \n",
    "import numpy as np\n",
    "import awkward as ak\n",
    "from functools import reduce\n",
    "import matplotlib.colors as colors\n",
    "import matplotlib.pyplot as plt\n",
    "import mplhep as hep\n",
    "import matplotlib.backends.backend_pdf\n",
    "from matplotlib.backends.backend_pdf import PdfPages\n",
    "import operator\n",
    "\n",
    "plt.style.use('seaborn-v0_8-white')\n",
    "plt.rcParams['figure.dpi'] = 200\n",
    "hep.style.use('CMS')"
   ]
  },
  {
   "cell_type": "code",
   "execution_count": null,
   "id": "58c99380-c2e9-400b-87dd-d2bb3a6dad1f",
   "metadata": {
    "tags": []
   },
   "outputs": [],
   "source": [
    "def getHist(dataDict, mapList):\n",
    "    return reduce(operator.getitem, mapList, dataDict)"
   ]
  },
  {
   "cell_type": "code",
   "execution_count": null,
   "id": "d80bc89d-71c4-45e2-a757-796747bcba1b",
   "metadata": {
    "tags": []
   },
   "outputs": [],
   "source": [
    "def draw_hist1d(hist_in, ax, trigger, label='', rebin=1, norm=False):\n",
    "    hist_in = hist_in[:, trigger, hist.rebin(rebin)]\n",
    "    counts, _, bins = hist_in.to_numpy()\n",
    "    if len(counts)>0: # check that there are events to plot\n",
    "        _counts = counts[0]/(np.sum(counts[0])*np.diff(bins)) if norm else counts[0]\n",
    "        errs = np.sqrt(counts[0])/(np.sum(counts[0])*np.diff(bins)) if norm else np.sqrt(counts[0])\n",
    "        _errs = np.where(_counts==0, 0, errs)\n",
    "        bin_centres = 0.5*(bins[1:] + bins[:-1])\n",
    "        l = ax.errorbar(x=bin_centres,y=_counts,yerr=_errs,linestyle='')\n",
    "        color = l[0].get_color()\n",
    "        ax.errorbar(x=bins[:-1],y=_counts,drawstyle='steps-post',label=label,color=color)\n",
    "        \n",
    "    else:        \n",
    "        l = ax.errorbar(x=[],y=[],yerr=[],drawstyle='steps-post') # plot nothing\n",
    "        color = l[0].get_color()\n",
    "        ax.errorbar(x=[],y=[],drawstyle='steps-post',label=label,color=color)"
   ]
  },
  {
   "cell_type": "code",
   "execution_count": null,
   "id": "6f215bc4-213e-4b89-9183-08bf592beed9",
   "metadata": {
    "tags": []
   },
   "outputs": [],
   "source": [
    "import matplotlib as mpl\n",
    "from cycler import cycler\n",
    "\n",
    "mpl.rcParams['axes.prop_cycle'] = cycler(\n",
    "    color=[\n",
    "        '#3f90da', \n",
    "        '#ffa90e', \n",
    "        '#bd1f01', \n",
    "        '#94a4a2', \n",
    "        '#832db6', \n",
    "        '#a96b59', \n",
    "        '#e76300', \n",
    "        '#b9ac70', \n",
    "        '#717581', \n",
    "        '#92dadd'\n",
    "    ]\n",
    ")"
   ]
  },
  {
   "cell_type": "code",
   "execution_count": null,
   "id": "9ac122ad-2a47-444b-91c1-8ed8a32bea8a",
   "metadata": {
    "tags": []
   },
   "outputs": [],
   "source": [
    "dataset = 'Scouting_2024I'\n",
    "histpath = [dataset, 'hists']\n",
    "\n",
    "# which triggers to plot (comment out unwanted)\n",
    "triggers = [\n",
    "    # 'DST_PFScouting_AXONominal', \n",
    "    # 'DST_PFScouting_AXOTight', \n",
    "    # 'DST_PFScouting_AXOVTight',\n",
    "    # 'DST_PFScouting_CICADAMedium', \n",
    "    # 'DST_PFScouting_CICADATight', \n",
    "    # 'DST_PFScouting_CICADAVTight',\n",
    "    'DST_PFScouting_ZeroBias'\n",
    "]\n",
    "trigger_names = {\n",
    "    'DST_PFScouting_AXOLoose': 'AXO Loose', \n",
    "    'DST_PFScouting_AXONominal': 'AXO Nominal', \n",
    "    'DST_PFScouting_AXOTight': 'AXO Tight', \n",
    "    'DST_PFScouting_AXOVLoose': 'AXO VLoose',\n",
    "    'DST_PFScouting_AXOVTight': 'AXO VTight',\n",
    "    'DST_PFScouting_CICADAMedium': 'CICADA Medium', \n",
    "    'DST_PFScouting_CICADATight': 'CICADA Tight', \n",
    "    'DST_PFScouting_CICADAVTight': 'CICADA VTight', \n",
    "    'DST_PFScouting_DoubleMuon': 'Double Muon',\n",
    "    'DST_PFScouting_JetHT': 'Jet HT',\n",
    "    'DST_PFScouting_ZeroBias': 'Zero Bias'\n",
    "}"
   ]
  },
  {
   "cell_type": "code",
   "execution_count": null,
   "id": "a148e230-1a8e-461c-ab96-e4dbd34855ae",
   "metadata": {
    "tags": []
   },
   "outputs": [],
   "source": [
    "with open(f'hist_result_{dataset}_test.pkl', 'rb') as file:\n",
    "    hist_result = dill.load(file)"
   ]
  },
  {
   "cell_type": "code",
   "execution_count": null,
   "id": "f4de8be9-3f57-4b42-a7a5-b38a31164153",
   "metadata": {
    "tags": []
   },
   "outputs": [],
   "source": [
    "hist_result['Scouting_2024I']['hists'].keys()"
   ]
  },
  {
   "cell_type": "code",
   "execution_count": null,
   "id": "f792ef3e-3d70-4519-ace4-28f4f974b02e",
   "metadata": {
    "tags": []
   },
   "outputs": [],
   "source": [
    "fig, ax = plt.subplots(1, 2, figsize=(24, 10))\n",
    "hist_name =  'l1ht'\n",
    "norm = False#\n",
    "\n",
    "for trigger in triggers:\n",
    "    print(trigger)\n",
    "    hist_current = getHist(hist_result, histpath+[hist_name])\n",
    "    draw_hist1d(hist_current, ax[0], trigger, label=trigger_names[trigger], rebin=1, norm=norm)\n",
    "\n",
    "hep.cms.label('', ax=ax[0], data=True, lumi=None, year=dataset, com=13.6)\n",
    "ax[0].set_xlim(0,250)\n",
    "ax[0].set_ylabel(f'Events{\" [A.U.]\" if norm else \"\"}', loc='top')\n",
    "ax[0].set_xlabel('L1 HT', loc='right')\n",
    "# ax[0].set_yscale('log')\n",
    "ax[0].legend();\n",
    "ax[1].set_visible(False)"
   ]
  }
 ],
 "metadata": {
  "kernelspec": {
   "display_name": "Python 3 (ipykernel)",
   "language": "python",
   "name": "python3"
  },
  "language_info": {
   "codemirror_mode": {
    "name": "ipython",
    "version": 3
   },
   "file_extension": ".py",
   "mimetype": "text/x-python",
   "name": "python",
   "nbconvert_exporter": "python",
   "pygments_lexer": "ipython3",
   "version": "3.10.13"
  }
 },
 "nbformat": 4,
 "nbformat_minor": 5
}
